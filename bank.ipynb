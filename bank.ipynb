{
 "cells": [
  {
   "cell_type": "code",
   "execution_count": 1,
   "id": "0197d4ef",
   "metadata": {},
   "outputs": [],
   "source": [
    "import pandas as pd\n",
    "import numpy as np"
   ]
  },
  {
   "cell_type": "code",
   "execution_count": 2,
   "id": "eb17ab7f",
   "metadata": {},
   "outputs": [
    {
     "data": {
      "text/html": [
       "<div>\n",
       "<style scoped>\n",
       "    .dataframe tbody tr th:only-of-type {\n",
       "        vertical-align: middle;\n",
       "    }\n",
       "\n",
       "    .dataframe tbody tr th {\n",
       "        vertical-align: top;\n",
       "    }\n",
       "\n",
       "    .dataframe thead th {\n",
       "        text-align: right;\n",
       "    }\n",
       "</style>\n",
       "<table border=\"1\" class=\"dataframe\">\n",
       "  <thead>\n",
       "    <tr style=\"text-align: right;\">\n",
       "      <th></th>\n",
       "      <th>age</th>\n",
       "      <th>job</th>\n",
       "      <th>marital</th>\n",
       "      <th>education</th>\n",
       "      <th>default</th>\n",
       "      <th>housing</th>\n",
       "      <th>loan</th>\n",
       "      <th>contact</th>\n",
       "      <th>month</th>\n",
       "      <th>day_of_week</th>\n",
       "      <th>...</th>\n",
       "      <th>campaign</th>\n",
       "      <th>pdays</th>\n",
       "      <th>previous</th>\n",
       "      <th>poutcome</th>\n",
       "      <th>emp.var.rate</th>\n",
       "      <th>cons.price.idx</th>\n",
       "      <th>cons.conf.idx</th>\n",
       "      <th>euribor3m</th>\n",
       "      <th>nr.employed</th>\n",
       "      <th>y</th>\n",
       "    </tr>\n",
       "  </thead>\n",
       "  <tbody>\n",
       "    <tr>\n",
       "      <th>0</th>\n",
       "      <td>56</td>\n",
       "      <td>housemaid</td>\n",
       "      <td>married</td>\n",
       "      <td>basic.4y</td>\n",
       "      <td>no</td>\n",
       "      <td>no</td>\n",
       "      <td>no</td>\n",
       "      <td>telephone</td>\n",
       "      <td>may</td>\n",
       "      <td>mon</td>\n",
       "      <td>...</td>\n",
       "      <td>1</td>\n",
       "      <td>999</td>\n",
       "      <td>0</td>\n",
       "      <td>nonexistent</td>\n",
       "      <td>1.1</td>\n",
       "      <td>93.994</td>\n",
       "      <td>-36.4</td>\n",
       "      <td>4.857</td>\n",
       "      <td>5191.0</td>\n",
       "      <td>no</td>\n",
       "    </tr>\n",
       "    <tr>\n",
       "      <th>1</th>\n",
       "      <td>57</td>\n",
       "      <td>services</td>\n",
       "      <td>married</td>\n",
       "      <td>high.school</td>\n",
       "      <td>unknown</td>\n",
       "      <td>no</td>\n",
       "      <td>no</td>\n",
       "      <td>telephone</td>\n",
       "      <td>may</td>\n",
       "      <td>mon</td>\n",
       "      <td>...</td>\n",
       "      <td>1</td>\n",
       "      <td>999</td>\n",
       "      <td>0</td>\n",
       "      <td>nonexistent</td>\n",
       "      <td>1.1</td>\n",
       "      <td>93.994</td>\n",
       "      <td>-36.4</td>\n",
       "      <td>4.857</td>\n",
       "      <td>5191.0</td>\n",
       "      <td>no</td>\n",
       "    </tr>\n",
       "    <tr>\n",
       "      <th>2</th>\n",
       "      <td>37</td>\n",
       "      <td>services</td>\n",
       "      <td>married</td>\n",
       "      <td>high.school</td>\n",
       "      <td>no</td>\n",
       "      <td>yes</td>\n",
       "      <td>no</td>\n",
       "      <td>telephone</td>\n",
       "      <td>may</td>\n",
       "      <td>mon</td>\n",
       "      <td>...</td>\n",
       "      <td>1</td>\n",
       "      <td>999</td>\n",
       "      <td>0</td>\n",
       "      <td>nonexistent</td>\n",
       "      <td>1.1</td>\n",
       "      <td>93.994</td>\n",
       "      <td>-36.4</td>\n",
       "      <td>4.857</td>\n",
       "      <td>5191.0</td>\n",
       "      <td>no</td>\n",
       "    </tr>\n",
       "    <tr>\n",
       "      <th>3</th>\n",
       "      <td>40</td>\n",
       "      <td>admin.</td>\n",
       "      <td>married</td>\n",
       "      <td>basic.6y</td>\n",
       "      <td>no</td>\n",
       "      <td>no</td>\n",
       "      <td>no</td>\n",
       "      <td>telephone</td>\n",
       "      <td>may</td>\n",
       "      <td>mon</td>\n",
       "      <td>...</td>\n",
       "      <td>1</td>\n",
       "      <td>999</td>\n",
       "      <td>0</td>\n",
       "      <td>nonexistent</td>\n",
       "      <td>1.1</td>\n",
       "      <td>93.994</td>\n",
       "      <td>-36.4</td>\n",
       "      <td>4.857</td>\n",
       "      <td>5191.0</td>\n",
       "      <td>no</td>\n",
       "    </tr>\n",
       "    <tr>\n",
       "      <th>4</th>\n",
       "      <td>56</td>\n",
       "      <td>services</td>\n",
       "      <td>married</td>\n",
       "      <td>high.school</td>\n",
       "      <td>no</td>\n",
       "      <td>no</td>\n",
       "      <td>yes</td>\n",
       "      <td>telephone</td>\n",
       "      <td>may</td>\n",
       "      <td>mon</td>\n",
       "      <td>...</td>\n",
       "      <td>1</td>\n",
       "      <td>999</td>\n",
       "      <td>0</td>\n",
       "      <td>nonexistent</td>\n",
       "      <td>1.1</td>\n",
       "      <td>93.994</td>\n",
       "      <td>-36.4</td>\n",
       "      <td>4.857</td>\n",
       "      <td>5191.0</td>\n",
       "      <td>no</td>\n",
       "    </tr>\n",
       "  </tbody>\n",
       "</table>\n",
       "<p>5 rows × 21 columns</p>\n",
       "</div>"
      ],
      "text/plain": [
       "   age        job  marital    education  default housing loan    contact  \\\n",
       "0   56  housemaid  married     basic.4y       no      no   no  telephone   \n",
       "1   57   services  married  high.school  unknown      no   no  telephone   \n",
       "2   37   services  married  high.school       no     yes   no  telephone   \n",
       "3   40     admin.  married     basic.6y       no      no   no  telephone   \n",
       "4   56   services  married  high.school       no      no  yes  telephone   \n",
       "\n",
       "  month day_of_week  ...  campaign  pdays  previous     poutcome emp.var.rate  \\\n",
       "0   may         mon  ...         1    999         0  nonexistent          1.1   \n",
       "1   may         mon  ...         1    999         0  nonexistent          1.1   \n",
       "2   may         mon  ...         1    999         0  nonexistent          1.1   \n",
       "3   may         mon  ...         1    999         0  nonexistent          1.1   \n",
       "4   may         mon  ...         1    999         0  nonexistent          1.1   \n",
       "\n",
       "   cons.price.idx  cons.conf.idx  euribor3m  nr.employed   y  \n",
       "0          93.994          -36.4      4.857       5191.0  no  \n",
       "1          93.994          -36.4      4.857       5191.0  no  \n",
       "2          93.994          -36.4      4.857       5191.0  no  \n",
       "3          93.994          -36.4      4.857       5191.0  no  \n",
       "4          93.994          -36.4      4.857       5191.0  no  \n",
       "\n",
       "[5 rows x 21 columns]"
      ]
     },
     "execution_count": 2,
     "metadata": {},
     "output_type": "execute_result"
    }
   ],
   "source": [
    "data = pd.read_csv(filepath_or_buffer='C:\\\\Users\\\\user\\\\PycharmProjects\\\\project\\\\bank-additional-full.csv', sep=';')\n",
    "data.head(5)"
   ]
  },
  {
   "cell_type": "code",
   "execution_count": 3,
   "id": "0c6bdcb1",
   "metadata": {},
   "outputs": [
    {
     "name": "stdout",
     "output_type": "stream",
     "text": [
      "<class 'pandas.core.frame.DataFrame'>\n",
      "RangeIndex: 41188 entries, 0 to 41187\n",
      "Data columns (total 21 columns):\n",
      " #   Column          Non-Null Count  Dtype  \n",
      "---  ------          --------------  -----  \n",
      " 0   age             41188 non-null  int64  \n",
      " 1   job             41188 non-null  object \n",
      " 2   marital         41188 non-null  object \n",
      " 3   education       41188 non-null  object \n",
      " 4   default         41188 non-null  object \n",
      " 5   housing         41188 non-null  object \n",
      " 6   loan            41188 non-null  object \n",
      " 7   contact         41188 non-null  object \n",
      " 8   month           41188 non-null  object \n",
      " 9   day_of_week     41188 non-null  object \n",
      " 10  duration        41188 non-null  int64  \n",
      " 11  campaign        41188 non-null  int64  \n",
      " 12  pdays           41188 non-null  int64  \n",
      " 13  previous        41188 non-null  int64  \n",
      " 14  poutcome        41188 non-null  object \n",
      " 15  emp.var.rate    41188 non-null  float64\n",
      " 16  cons.price.idx  41188 non-null  float64\n",
      " 17  cons.conf.idx   41188 non-null  float64\n",
      " 18  euribor3m       41188 non-null  float64\n",
      " 19  nr.employed     41188 non-null  float64\n",
      " 20  y               41188 non-null  object \n",
      "dtypes: float64(5), int64(5), object(11)\n",
      "memory usage: 6.6+ MB\n"
     ]
    }
   ],
   "source": [
    "data.info()"
   ]
  },
  {
   "cell_type": "code",
   "execution_count": 4,
   "id": "275ddcb8",
   "metadata": {},
   "outputs": [
    {
     "data": {
      "text/plain": [
       "Index(['age', 'job', 'marital', 'education', 'default', 'housing', 'loan',\n",
       "       'contact', 'month', 'day_of_week', 'duration', 'campaign', 'pdays',\n",
       "       'previous', 'poutcome', 'emp.var.rate', 'cons.price.idx',\n",
       "       'cons.conf.idx', 'euribor3m', 'nr.employed', 'y'],\n",
       "      dtype='object')"
      ]
     },
     "execution_count": 4,
     "metadata": {},
     "output_type": "execute_result"
    }
   ],
   "source": [
    "data.columns"
   ]
  },
  {
   "cell_type": "code",
   "execution_count": 5,
   "id": "0311cdcb",
   "metadata": {},
   "outputs": [
    {
     "data": {
      "text/html": [
       "<div>\n",
       "<style scoped>\n",
       "    .dataframe tbody tr th:only-of-type {\n",
       "        vertical-align: middle;\n",
       "    }\n",
       "\n",
       "    .dataframe tbody tr th {\n",
       "        vertical-align: top;\n",
       "    }\n",
       "\n",
       "    .dataframe thead th {\n",
       "        text-align: right;\n",
       "    }\n",
       "</style>\n",
       "<table border=\"1\" class=\"dataframe\">\n",
       "  <thead>\n",
       "    <tr style=\"text-align: right;\">\n",
       "      <th></th>\n",
       "      <th>age</th>\n",
       "      <th>job</th>\n",
       "      <th>marital</th>\n",
       "      <th>education</th>\n",
       "      <th>default</th>\n",
       "      <th>housing</th>\n",
       "      <th>loan</th>\n",
       "      <th>contact</th>\n",
       "      <th>month</th>\n",
       "      <th>day_of_week</th>\n",
       "      <th>duration</th>\n",
       "      <th>campaign</th>\n",
       "      <th>pdays</th>\n",
       "      <th>previous</th>\n",
       "      <th>poutcome</th>\n",
       "      <th>emp.var.rate</th>\n",
       "      <th>cons.price.idx</th>\n",
       "      <th>cons.conf.idx</th>\n",
       "      <th>euribor3m</th>\n",
       "      <th>nr.employed</th>\n",
       "      <th>y</th>\n",
       "    </tr>\n",
       "  </thead>\n",
       "  <tbody>\n",
       "    <tr>\n",
       "      <th>0</th>\n",
       "      <td>56</td>\n",
       "      <td>housemaid</td>\n",
       "      <td>married</td>\n",
       "      <td>basic.4y</td>\n",
       "      <td>no</td>\n",
       "      <td>no</td>\n",
       "      <td>no</td>\n",
       "      <td>telephone</td>\n",
       "      <td>may</td>\n",
       "      <td>mon</td>\n",
       "      <td>261</td>\n",
       "      <td>1</td>\n",
       "      <td>999</td>\n",
       "      <td>0</td>\n",
       "      <td>nonexistent</td>\n",
       "      <td>1.1</td>\n",
       "      <td>93.994</td>\n",
       "      <td>-36.4</td>\n",
       "      <td>4.857</td>\n",
       "      <td>5191.0</td>\n",
       "      <td>no</td>\n",
       "    </tr>\n",
       "    <tr>\n",
       "      <th>1</th>\n",
       "      <td>57</td>\n",
       "      <td>services</td>\n",
       "      <td>married</td>\n",
       "      <td>high.school</td>\n",
       "      <td>unknown</td>\n",
       "      <td>no</td>\n",
       "      <td>no</td>\n",
       "      <td>telephone</td>\n",
       "      <td>may</td>\n",
       "      <td>mon</td>\n",
       "      <td>149</td>\n",
       "      <td>1</td>\n",
       "      <td>999</td>\n",
       "      <td>0</td>\n",
       "      <td>nonexistent</td>\n",
       "      <td>1.1</td>\n",
       "      <td>93.994</td>\n",
       "      <td>-36.4</td>\n",
       "      <td>4.857</td>\n",
       "      <td>5191.0</td>\n",
       "      <td>no</td>\n",
       "    </tr>\n",
       "    <tr>\n",
       "      <th>2</th>\n",
       "      <td>37</td>\n",
       "      <td>services</td>\n",
       "      <td>married</td>\n",
       "      <td>high.school</td>\n",
       "      <td>no</td>\n",
       "      <td>yes</td>\n",
       "      <td>no</td>\n",
       "      <td>telephone</td>\n",
       "      <td>may</td>\n",
       "      <td>mon</td>\n",
       "      <td>226</td>\n",
       "      <td>1</td>\n",
       "      <td>999</td>\n",
       "      <td>0</td>\n",
       "      <td>nonexistent</td>\n",
       "      <td>1.1</td>\n",
       "      <td>93.994</td>\n",
       "      <td>-36.4</td>\n",
       "      <td>4.857</td>\n",
       "      <td>5191.0</td>\n",
       "      <td>no</td>\n",
       "    </tr>\n",
       "  </tbody>\n",
       "</table>\n",
       "</div>"
      ],
      "text/plain": [
       "   age        job  marital    education  default housing loan    contact  \\\n",
       "0   56  housemaid  married     basic.4y       no      no   no  telephone   \n",
       "1   57   services  married  high.school  unknown      no   no  telephone   \n",
       "2   37   services  married  high.school       no     yes   no  telephone   \n",
       "\n",
       "  month day_of_week  duration  campaign  pdays  previous     poutcome  \\\n",
       "0   may         mon       261         1    999         0  nonexistent   \n",
       "1   may         mon       149         1    999         0  nonexistent   \n",
       "2   may         mon       226         1    999         0  nonexistent   \n",
       "\n",
       "   emp.var.rate  cons.price.idx  cons.conf.idx  euribor3m  nr.employed   y  \n",
       "0           1.1          93.994          -36.4      4.857       5191.0  no  \n",
       "1           1.1          93.994          -36.4      4.857       5191.0  no  \n",
       "2           1.1          93.994          -36.4      4.857       5191.0  no  "
      ]
     },
     "execution_count": 5,
     "metadata": {},
     "output_type": "execute_result"
    }
   ],
   "source": [
    "pd.set_option('display.max_columns', 21)\n",
    "data.head(3)"
   ]
  },
  {
   "cell_type": "code",
   "execution_count": 6,
   "id": "3f0088ec",
   "metadata": {},
   "outputs": [
    {
     "data": {
      "text/plain": [
       "(41188, 21)"
      ]
     },
     "execution_count": 6,
     "metadata": {},
     "output_type": "execute_result"
    }
   ],
   "source": [
    "data.shape"
   ]
  },
  {
   "cell_type": "code",
   "execution_count": 7,
   "id": "63fee386",
   "metadata": {},
   "outputs": [
    {
     "data": {
      "text/plain": [
       "age               0\n",
       "job               0\n",
       "marital           0\n",
       "education         0\n",
       "default           0\n",
       "housing           0\n",
       "loan              0\n",
       "contact           0\n",
       "month             0\n",
       "day_of_week       0\n",
       "duration          0\n",
       "campaign          0\n",
       "pdays             0\n",
       "previous          0\n",
       "poutcome          0\n",
       "emp.var.rate      0\n",
       "cons.price.idx    0\n",
       "cons.conf.idx     0\n",
       "euribor3m         0\n",
       "nr.employed       0\n",
       "y                 0\n",
       "dtype: int64"
      ]
     },
     "execution_count": 7,
     "metadata": {},
     "output_type": "execute_result"
    }
   ],
   "source": [
    "data.isnull().sum()"
   ]
  },
  {
   "cell_type": "code",
   "execution_count": 8,
   "id": "a6a0f244",
   "metadata": {},
   "outputs": [],
   "source": [
    "def uniqueness(col):\n",
    "    print(data[col].unique())"
   ]
  },
  {
   "cell_type": "code",
   "execution_count": 9,
   "id": "3f3a9270",
   "metadata": {},
   "outputs": [
    {
     "name": "stdout",
     "output_type": "stream",
     "text": [
      "[56 57 37 40 45 59 41 24 25 29 35 54 46 50 39 30 55 49 34 52 58 32 38 44\n",
      " 42 60 53 47 51 48 33 31 43 36 28 27 26 22 23 20 21 61 19 18 70 66 76 67\n",
      " 73 88 95 77 68 75 63 80 62 65 72 82 64 71 69 78 85 79 83 81 74 17 87 91\n",
      " 86 98 94 84 92 89]\n"
     ]
    }
   ],
   "source": [
    "# check through data for any dirtiness\n",
    "# age checking age limit and negative values\n",
    "uniqueness('age')"
   ]
  },
  {
   "cell_type": "code",
   "execution_count": 10,
   "id": "f0e788de",
   "metadata": {},
   "outputs": [
    {
     "name": "stdout",
     "output_type": "stream",
     "text": [
      "Minimum age is 17\n"
     ]
    }
   ],
   "source": [
    "# minimum and maximum age to see if age fall within our age limit\n",
    "print('Minimum age is {}'.format(data['age'].min()))"
   ]
  },
  {
   "cell_type": "code",
   "execution_count": 11,
   "id": "4c063480",
   "metadata": {},
   "outputs": [
    {
     "name": "stdout",
     "output_type": "stream",
     "text": [
      "Maximum age is 98\n"
     ]
    }
   ],
   "source": [
    "# minimum and maximum age to see if age fall within our age limit\n",
    "print('Maximum age is {}'.format(data['age'].max()))"
   ]
  },
  {
   "cell_type": "code",
   "execution_count": 12,
   "id": "007d3c8c",
   "metadata": {},
   "outputs": [
    {
     "name": "stdout",
     "output_type": "stream",
     "text": [
      "['housemaid' 'services' 'admin.' 'blue-collar' 'technician' 'retired'\n",
      " 'management' 'unemployed' 'self-employed' 'unknown' 'entrepreneur'\n",
      " 'student']\n"
     ]
    }
   ],
   "source": [
    "# check through data for dirtiness\n",
    "# job field \n",
    "uniqueness('job')"
   ]
  },
  {
   "cell_type": "code",
   "execution_count": 13,
   "id": "a1676c4c",
   "metadata": {},
   "outputs": [
    {
     "name": "stderr",
     "output_type": "stream",
     "text": [
      "C:\\Users\\user\\AppData\\Local\\Temp\\ipykernel_8268\\765887980.py:2: FutureWarning: The default value of regex will change from True to False in a future version. In addition, single character regular expressions will *not* be treated as literal strings when regex=True.\n",
      "  data['job'].str.replace('.', '')\n"
     ]
    },
    {
     "data": {
      "text/plain": [
       "0          housemaid\n",
       "1           services\n",
       "2           services\n",
       "3              admin\n",
       "4           services\n",
       "            ...     \n",
       "41183        retired\n",
       "41184    blue-collar\n",
       "41185        retired\n",
       "41186     technician\n",
       "41187        retired\n",
       "Name: job, Length: 41188, dtype: object"
      ]
     },
     "execution_count": 13,
     "metadata": {},
     "output_type": "execute_result"
    }
   ],
   "source": [
    "# removing . string added to the admin value with an empty string and setting unknown values to \n",
    "data['job'].str.replace('.', '')\n"
   ]
  },
  {
   "cell_type": "code",
   "execution_count": 14,
   "id": "770cb00d",
   "metadata": {},
   "outputs": [],
   "source": [
    "import seaborn as sns\n",
    "import matplotlib.pyplot as plt"
   ]
  },
  {
   "cell_type": "code",
   "execution_count": 15,
   "id": "ae755dba",
   "metadata": {},
   "outputs": [
    {
     "name": "stderr",
     "output_type": "stream",
     "text": [
      "C:\\Users\\user\\anaconda3\\lib\\site-packages\\seaborn\\_decorators.py:36: FutureWarning: Pass the following variable as a keyword arg: x. From version 0.12, the only valid positional argument will be `data`, and passing other arguments without an explicit keyword will result in an error or misinterpretation.\n",
      "  warnings.warn(\n"
     ]
    },
    {
     "data": {
      "text/plain": [
       "<AxesSubplot:xlabel='job', ylabel='count'>"
      ]
     },
     "execution_count": 15,
     "metadata": {},
     "output_type": "execute_result"
    },
    {
     "data": {
      "image/png": "[encoded data removed]",
      "text/plain": [
       "<Figure size 1440x720 with 1 Axes>"
      ]
     },
     "metadata": {
      "needs_background": "light"
     },
     "output_type": "display_data"
    }
   ],
   "source": [
    "plt.figure(figsize=(20,10))\n",
    "sns.countplot(data['job'])"
   ]
  },
  {
   "cell_type": "code",
   "execution_count": 16,
   "id": "b940338a",
   "metadata": {},
   "outputs": [
    {
     "data": {
      "text/plain": [
       "330"
      ]
     },
     "execution_count": 16,
     "metadata": {},
     "output_type": "execute_result"
    }
   ],
   "source": [
    "# as we can see there are some unkmown values in the data, in other to increase the integrity of the data we must handle them\n",
    "data.loc[data['job'] == 'unknown', 'job'].count()"
   ]
  },
  {
   "cell_type": "code",
   "execution_count": 17,
   "id": "6195844c",
   "metadata": {},
   "outputs": [],
   "source": [
    "# we can drop these 330 values in our dataframe\n",
    "data.drop(data.index[data['job'] == 'unknown'], inplace=True)"
   ]
  },
  {
   "cell_type": "code",
   "execution_count": 18,
   "id": "8cde40cc",
   "metadata": {},
   "outputs": [
    {
     "data": {
      "text/plain": [
       "0"
      ]
     },
     "execution_count": 18,
     "metadata": {},
     "output_type": "execute_result"
    }
   ],
   "source": [
    "data.loc[data['job'] == 'unknown', 'job'].count()"
   ]
  },
  {
   "cell_type": "code",
   "execution_count": 19,
   "id": "239094dd",
   "metadata": {},
   "outputs": [
    {
     "name": "stdout",
     "output_type": "stream",
     "text": [
      "['married' 'single' 'divorced' 'unknown']\n"
     ]
    }
   ],
   "source": [
    "uniqueness('marital')"
   ]
  },
  {
   "cell_type": "code",
   "execution_count": 20,
   "id": "1ba4d274",
   "metadata": {},
   "outputs": [
    {
     "data": {
      "text/plain": [
       "71"
      ]
     },
     "execution_count": 20,
     "metadata": {},
     "output_type": "execute_result"
    }
   ],
   "source": [
    "data.loc[data['marital'] == 'unknown', 'marital'].count()"
   ]
  },
  {
   "cell_type": "code",
   "execution_count": 21,
   "id": "eae8b10b",
   "metadata": {},
   "outputs": [],
   "source": [
    "data.drop(data.index[data['marital'] == 'unknown'], inplace=True)"
   ]
  },
  {
   "cell_type": "code",
   "execution_count": 22,
   "id": "382e5c39",
   "metadata": {},
   "outputs": [
    {
     "data": {
      "text/plain": [
       "0"
      ]
     },
     "execution_count": 22,
     "metadata": {},
     "output_type": "execute_result"
    }
   ],
   "source": [
    "data.loc[data['marital'] == 'unknown', 'marital'].count()"
   ]
  },
  {
   "cell_type": "code",
   "execution_count": 23,
   "id": "fbf5b938",
   "metadata": {},
   "outputs": [
    {
     "name": "stdout",
     "output_type": "stream",
     "text": [
      "['basic.4y' 'high.school' 'basic.6y' 'basic.9y' 'professional.course'\n",
      " 'unknown' 'university.degree' 'illiterate']\n"
     ]
    }
   ],
   "source": [
    "uniqueness('education')"
   ]
  },
  {
   "cell_type": "code",
   "execution_count": 24,
   "id": "dbdd1590",
   "metadata": {},
   "outputs": [
    {
     "data": {
      "text/plain": [
       "1596"
      ]
     },
     "execution_count": 24,
     "metadata": {},
     "output_type": "execute_result"
    }
   ],
   "source": [
    "data.loc[data['education'] == 'unknown', 'education'].count()"
   ]
  },
  {
   "cell_type": "code",
   "execution_count": 25,
   "id": "df634d64",
   "metadata": {},
   "outputs": [
    {
     "name": "stderr",
     "output_type": "stream",
     "text": [
      "C:\\Users\\user\\anaconda3\\lib\\site-packages\\seaborn\\_decorators.py:36: FutureWarning: Pass the following variable as a keyword arg: x. From version 0.12, the only valid positional argument will be `data`, and passing other arguments without an explicit keyword will result in an error or misinterpretation.\n",
      "  warnings.warn(\n"
     ]
    },
    {
     "data": {
      "text/plain": [
       "<AxesSubplot:xlabel='education', ylabel='count'>"
      ]
     },
     "execution_count": 25,
     "metadata": {},
     "output_type": "execute_result"
    },
    {
     "data": {
      "image/png": "[encoded data removed]",
      "text/plain": [
       "<Figure size 1440x720 with 1 Axes>"
      ]
     },
     "metadata": {
      "needs_background": "light"
     },
     "output_type": "display_data"
    }
   ],
   "source": [
    "plt.figure(figsize=(20,10))\n",
    "sns.countplot(data['education'])"
   ]
  },
  {
   "cell_type": "code",
   "execution_count": 26,
   "id": "0c6d2bd7",
   "metadata": {},
   "outputs": [],
   "source": [
    "data.drop(data.index[data['education'] == 'unknown'], inplace=True)"
   ]
  },
  {
   "cell_type": "code",
   "execution_count": 27,
   "id": "74014197",
   "metadata": {},
   "outputs": [
    {
     "data": {
      "text/plain": [
       "(39191, 21)"
      ]
     },
     "execution_count": 27,
     "metadata": {},
     "output_type": "execute_result"
    }
   ],
   "source": [
    "data.shape"
   ]
  },
  {
   "cell_type": "code",
   "execution_count": 28,
   "id": "9495e69e",
   "metadata": {},
   "outputs": [
    {
     "name": "stdout",
     "output_type": "stream",
     "text": [
      "['no' 'unknown' 'yes']\n"
     ]
    }
   ],
   "source": [
    "uniqueness('default')"
   ]
  },
  {
   "cell_type": "code",
   "execution_count": 29,
   "id": "f5dae29a",
   "metadata": {},
   "outputs": [
    {
     "data": {
      "text/plain": [
       "7964"
      ]
     },
     "execution_count": 29,
     "metadata": {},
     "output_type": "execute_result"
    }
   ],
   "source": [
    "data.loc[data['default'] == 'unknown', 'default'].count()"
   ]
  },
  {
   "cell_type": "code",
   "execution_count": 30,
   "id": "a6afffda",
   "metadata": {},
   "outputs": [],
   "source": [
    "# drop the column\n",
    "data.drop('default', axis=1, inplace=True)"
   ]
  },
  {
   "cell_type": "code",
   "execution_count": 31,
   "id": "ce9b62de",
   "metadata": {},
   "outputs": [
    {
     "data": {
      "text/plain": [
       "Index(['age', 'job', 'marital', 'education', 'housing', 'loan', 'contact',\n",
       "       'month', 'day_of_week', 'duration', 'campaign', 'pdays', 'previous',\n",
       "       'poutcome', 'emp.var.rate', 'cons.price.idx', 'cons.conf.idx',\n",
       "       'euribor3m', 'nr.employed', 'y'],\n",
       "      dtype='object')"
      ]
     },
     "execution_count": 31,
     "metadata": {},
     "output_type": "execute_result"
    }
   ],
   "source": [
    "data.columns"
   ]
  },
  {
   "cell_type": "code",
   "execution_count": 32,
   "id": "19e9bd72",
   "metadata": {},
   "outputs": [
    {
     "name": "stdout",
     "output_type": "stream",
     "text": [
      "['no' 'yes' 'unknown']\n"
     ]
    }
   ],
   "source": [
    "uniqueness('housing')"
   ]
  },
  {
   "cell_type": "code",
   "execution_count": 33,
   "id": "110ea4db",
   "metadata": {},
   "outputs": [],
   "source": [
    "def count_unknown(col):\n",
    "    print(data.loc[data[col] == 'unknown', col].count())"
   ]
  },
  {
   "cell_type": "code",
   "execution_count": 34,
   "id": "f0f5a51e",
   "metadata": {},
   "outputs": [
    {
     "name": "stdout",
     "output_type": "stream",
     "text": [
      "946\n"
     ]
    }
   ],
   "source": [
    "count_unknown('housing')"
   ]
  },
  {
   "cell_type": "code",
   "execution_count": 35,
   "id": "bc2e26f8",
   "metadata": {},
   "outputs": [],
   "source": [
    "def drop_unknown(col):\n",
    "    data.drop(data.index[data[col] == 'unknown'], inplace=True)"
   ]
  },
  {
   "cell_type": "code",
   "execution_count": 36,
   "id": "205f53e0",
   "metadata": {},
   "outputs": [],
   "source": [
    "data.drop(data.index[data['housing'] == 'unknown'], inplace=True)"
   ]
  },
  {
   "cell_type": "code",
   "execution_count": 38,
   "id": "75dfed20",
   "metadata": {},
   "outputs": [
    {
     "name": "stdout",
     "output_type": "stream",
     "text": [
      "0\n"
     ]
    }
   ],
   "source": [
    "print(data.loc[data['housing'] == 'unknown', 'housing'].count())"
   ]
  },
  {
   "cell_type": "code",
   "execution_count": 39,
   "id": "10c2abf1",
   "metadata": {},
   "outputs": [
    {
     "name": "stdout",
     "output_type": "stream",
     "text": [
      "['no' 'yes']\n"
     ]
    }
   ],
   "source": [
    "uniqueness('loan')"
   ]
  },
  {
   "cell_type": "code",
   "execution_count": 40,
   "id": "f792f2dd",
   "metadata": {},
   "outputs": [
    {
     "name": "stderr",
     "output_type": "stream",
     "text": [
      "C:\\Users\\user\\anaconda3\\lib\\site-packages\\seaborn\\_decorators.py:36: FutureWarning: Pass the following variable as a keyword arg: x. From version 0.12, the only valid positional argument will be `data`, and passing other arguments without an explicit keyword will result in an error or misinterpretation.\n",
      "  warnings.warn(\n"
     ]
    },
    {
     "data": {
      "text/plain": [
       "<AxesSubplot:xlabel='loan', ylabel='count'>"
      ]
     },
     "execution_count": 40,
     "metadata": {},
     "output_type": "execute_result"
    },
    {
     "data": {
      "image/png": "[encoded data removed]",
      "text/plain": [
       "<Figure size 432x288 with 1 Axes>"
      ]
     },
     "metadata": {
      "needs_background": "light"
     },
     "output_type": "display_data"
    }
   ],
   "source": [
    "sns.countplot(data['loan'])"
   ]
  },
  {
   "cell_type": "code",
   "execution_count": 41,
   "id": "f7d4b4c6",
   "metadata": {},
   "outputs": [
    {
     "data": {
      "text/plain": [
       "(38245, 20)"
      ]
     },
     "execution_count": 41,
     "metadata": {},
     "output_type": "execute_result"
    }
   ],
   "source": [
    "data.shape"
   ]
  },
  {
   "cell_type": "code",
   "execution_count": 42,
   "id": "e9d010c7",
   "metadata": {},
   "outputs": [
    {
     "name": "stdout",
     "output_type": "stream",
     "text": [
      "['telephone' 'cellular']\n"
     ]
    }
   ],
   "source": [
    "uniqueness('contact')"
   ]
  },
  {
   "cell_type": "code",
   "execution_count": 43,
   "id": "17a838ae",
   "metadata": {},
   "outputs": [
    {
     "name": "stderr",
     "output_type": "stream",
     "text": [
      "C:\\Users\\user\\anaconda3\\lib\\site-packages\\seaborn\\_decorators.py:36: FutureWarning: Pass the following variable as a keyword arg: x. From version 0.12, the only valid positional argument will be `data`, and passing other arguments without an explicit keyword will result in an error or misinterpretation.\n",
      "  warnings.warn(\n"
     ]
    },
    {
     "data": {
      "text/plain": [
       "<AxesSubplot:xlabel='contact', ylabel='count'>"
      ]
     },
     "execution_count": 43,
     "metadata": {},
     "output_type": "execute_result"
    },
    {
     "data": {
      "image/png": "[encoded data removed]",
      "text/plain": [
       "<Figure size 432x288 with 1 Axes>"
      ]
     },
     "metadata": {
      "needs_background": "light"
     },
     "output_type": "display_data"
    }
   ],
   "source": [
    "sns.countplot(data['contact'])"
   ]
  },
  {
   "cell_type": "code",
   "execution_count": 44,
   "id": "1794e199",
   "metadata": {},
   "outputs": [
    {
     "name": "stdout",
     "output_type": "stream",
     "text": [
      "['may' 'jun' 'jul' 'aug' 'oct' 'nov' 'dec' 'mar' 'apr' 'sep']\n"
     ]
    }
   ],
   "source": [
    "uniqueness('month')"
   ]
  },
  {
   "cell_type": "code",
   "execution_count": 45,
   "id": "010d1bd6",
   "metadata": {},
   "outputs": [
    {
     "name": "stdout",
     "output_type": "stream",
     "text": [
      "['mon' 'tue' 'wed' 'thu' 'fri']\n"
     ]
    }
   ],
   "source": [
    "uniqueness('day_of_week')"
   ]
  },
  {
   "cell_type": "code",
   "execution_count": 46,
   "id": "f94e2918",
   "metadata": {},
   "outputs": [
    {
     "name": "stdout",
     "output_type": "stream",
     "text": [
      "[ 261  149  226 ... 1246 1556 1868]\n"
     ]
    }
   ],
   "source": [
    "uniqueness('duration')"
   ]
  },
  {
   "cell_type": "code",
   "execution_count": 49,
   "id": "77bcbe47",
   "metadata": {},
   "outputs": [],
   "source": [
    "# checking for negative values in duration field\n",
    "for value in data['duration'].unique():\n",
    "    if value < 0:\n",
    "        print('yes')\n",
    "    else:\n",
    "        pass"
   ]
  },
  {
   "cell_type": "code",
   "execution_count": 50,
   "id": "e7cf2f83",
   "metadata": {},
   "outputs": [
    {
     "name": "stdout",
     "output_type": "stream",
     "text": [
      "[ 1  2  3  4  5  6  7  8  9 10 11 12 13 18 23 14 22 25 16 17 15 19 20 39\n",
      " 35 42 28 26 27 32 21 24 29 31 30 41 37 40 33 34 43]\n"
     ]
    }
   ],
   "source": [
    "uniqueness('campaign')"
   ]
  },
  {
   "cell_type": "code",
   "execution_count": 51,
   "id": "a78f6772",
   "metadata": {},
   "outputs": [
    {
     "name": "stdout",
     "output_type": "stream",
     "text": [
      "[999   6   4   3   5   1   0  10   7   9  11   2   8  12  13  14  15  16\n",
      "  21  17  18  22  25  26  19  27]\n"
     ]
    }
   ],
   "source": [
    "uniqueness('pdays')"
   ]
  },
  {
   "cell_type": "code",
   "execution_count": 53,
   "id": "3135b4ad",
   "metadata": {},
   "outputs": [
    {
     "name": "stdout",
     "output_type": "stream",
     "text": [
      "[0 1 2 3 4 5 6 7]\n"
     ]
    }
   ],
   "source": [
    "uniqueness('previous')"
   ]
  },
  {
   "cell_type": "code",
   "execution_count": 54,
   "id": "5cc330c7",
   "metadata": {},
   "outputs": [
    {
     "name": "stdout",
     "output_type": "stream",
     "text": [
      "['nonexistent' 'failure' 'success']\n"
     ]
    }
   ],
   "source": [
    "uniqueness('poutcome')"
   ]
  },
  {
   "cell_type": "code",
   "execution_count": 55,
   "id": "dd37151d",
   "metadata": {},
   "outputs": [
    {
     "name": "stdout",
     "output_type": "stream",
     "text": [
      "[ 1.1  1.4 -0.1 -0.2 -1.8 -2.9 -3.4 -3.  -1.7 -1.1]\n"
     ]
    }
   ],
   "source": [
    "uniqueness('emp.var.rate')"
   ]
  },
  {
   "cell_type": "code",
   "execution_count": 56,
   "id": "194a3daa",
   "metadata": {},
   "outputs": [
    {
     "name": "stdout",
     "output_type": "stream",
     "text": [
      "[93.994 94.465 93.918 93.444 93.798 93.2   92.756 92.843 93.075 92.893\n",
      " 92.963 92.469 92.201 92.379 92.431 92.649 92.713 93.369 93.749 93.876\n",
      " 94.055 94.215 94.027 94.199 94.601 94.767]\n"
     ]
    }
   ],
   "source": [
    "uniqueness('cons.price.idx')"
   ]
  },
  {
   "cell_type": "code",
   "execution_count": 57,
   "id": "78217a8c",
   "metadata": {},
   "outputs": [
    {
     "name": "stdout",
     "output_type": "stream",
     "text": [
      "[-36.4 -41.8 -42.7 -36.1 -40.4 -42.  -45.9 -50.  -47.1 -46.2 -40.8 -33.6\n",
      " -31.4 -29.8 -26.9 -30.1 -33.  -34.8 -34.6 -40.  -39.8 -40.3 -38.3 -37.5\n",
      " -49.5 -50.8]\n"
     ]
    }
   ],
   "source": [
    "uniqueness('cons.conf.idx')"
   ]
  },
  {
   "cell_type": "code",
   "execution_count": 58,
   "id": "301827e6",
   "metadata": {},
   "outputs": [
    {
     "name": "stdout",
     "output_type": "stream",
     "text": [
      "[4.857 4.856 4.855 4.859 4.86  4.858 4.864 4.865 4.866 4.967 4.961 4.959\n",
      " 4.958 4.96  4.962 4.955 4.947 4.956 4.966 4.963 4.957 4.968 4.97  4.965\n",
      " 4.964 5.045 5.    4.936 4.921 4.918 4.912 4.827 4.794 4.76  4.733 4.7\n",
      " 4.663 4.592 4.474 4.406 4.343 4.286 4.245 4.223 4.191 4.153 4.12  4.076\n",
      " 4.021 3.901 3.879 3.853 3.816 3.743 3.669 3.563 3.488 3.428 3.329 3.282\n",
      " 3.053 1.811 1.799 1.778 1.757 1.726 1.703 1.687 1.663 1.65  1.64  1.629\n",
      " 1.614 1.602 1.584 1.56  1.556 1.548 1.538 1.531 1.52  1.51  1.498 1.483\n",
      " 1.479 1.466 1.453 1.445 1.435 1.423 1.415 1.41  1.405 1.406 1.4   1.392\n",
      " 1.384 1.372 1.365 1.354 1.344 1.334 1.327 1.313 1.299 1.291 1.281 1.266\n",
      " 1.25  1.244 1.259 1.264 1.27  1.262 1.26  1.268 1.286 1.252 1.235 1.224\n",
      " 1.215 1.206 1.099 1.085 1.072 1.059 1.048 1.044 1.029 1.018 1.007 0.979\n",
      " 0.969 0.944 0.937 0.933 0.927 0.921 0.914 0.908 0.903 0.899 0.884 0.883\n",
      " 0.881 0.879 0.873 0.869 0.861 0.859 0.854 0.851 0.849 0.843 0.838 0.834\n",
      " 0.829 0.825 0.821 0.819 0.813 0.809 0.803 0.797 0.788 0.781 0.778 0.773\n",
      " 0.771 0.77  0.768 0.766 0.762 0.755 0.749 0.743 0.741 0.739 0.75  0.753\n",
      " 0.754 0.752 0.744 0.74  0.742 0.737 0.735 0.733 0.73  0.731 0.728 0.724\n",
      " 0.722 0.72  0.719 0.716 0.715 0.714 0.718 0.721 0.717 0.712 0.71  0.709\n",
      " 0.708 0.706 0.707 0.7   0.655 0.654 0.653 0.652 0.651 0.65  0.649 0.646\n",
      " 0.644 0.643 0.639 0.637 0.635 0.636 0.634 0.638 0.64  0.642 0.645 0.659\n",
      " 0.663 0.668 0.672 0.677 0.682 0.683 0.684 0.685 0.688 0.69  0.692 0.695\n",
      " 0.697 0.699 0.701 0.702 0.704 0.711 0.713 0.723 0.727 0.729 0.732 0.748\n",
      " 0.761 0.767 0.782 0.79  0.793 0.802 0.81  0.822 0.827 0.835 0.84  0.846\n",
      " 0.87  0.876 0.885 0.889 0.893 0.896 0.898 0.9   0.904 0.905 0.895 0.894\n",
      " 0.891 0.89  0.888 0.886 0.882 0.88  0.878 0.877 0.942 0.953 0.956 0.959\n",
      " 0.965 0.972 0.977 0.982 0.985 0.987 0.993 1.    1.008 1.016 1.025 1.032\n",
      " 1.037 1.043 1.045 1.047 1.05  1.049 1.046 1.041 1.04  1.039 1.035 1.03\n",
      " 1.031 1.028]\n"
     ]
    }
   ],
   "source": [
    "uniqueness('euribor3m')"
   ]
  },
  {
   "cell_type": "code",
   "execution_count": 59,
   "id": "c38e15cf",
   "metadata": {},
   "outputs": [
    {
     "name": "stdout",
     "output_type": "stream",
     "text": [
      "[5191.  5228.1 5195.8 5176.3 5099.1 5076.2 5017.5 5023.5 5008.7 4991.6\n",
      " 4963.6]\n"
     ]
    }
   ],
   "source": [
    "uniqueness('nr.employed')"
   ]
  },
  {
   "cell_type": "code",
   "execution_count": 60,
   "id": "199117d3",
   "metadata": {},
   "outputs": [
    {
     "name": "stdout",
     "output_type": "stream",
     "text": [
      "['no' 'yes']\n"
     ]
    }
   ],
   "source": [
    "uniqueness('y')"
   ]
  },
  {
   "cell_type": "code",
   "execution_count": 61,
   "id": "b3e9b1b2",
   "metadata": {},
   "outputs": [
    {
     "name": "stderr",
     "output_type": "stream",
     "text": [
      "C:\\Users\\user\\anaconda3\\lib\\site-packages\\seaborn\\_decorators.py:36: FutureWarning: Pass the following variable as a keyword arg: x. From version 0.12, the only valid positional argument will be `data`, and passing other arguments without an explicit keyword will result in an error or misinterpretation.\n",
      "  warnings.warn(\n"
     ]
    },
    {
     "data": {
      "text/plain": [
       "<AxesSubplot:xlabel='y', ylabel='count'>"
      ]
     },
     "execution_count": 61,
     "metadata": {},
     "output_type": "execute_result"
    },
    {
     "data": {
      "image/png": "[encoded data removed]",
      "text/plain": [
       "<Figure size 432x288 with 1 Axes>"
      ]
     },
     "metadata": {
      "needs_background": "light"
     },
     "output_type": "display_data"
    }
   ],
   "source": [
    "sns.countplot(data['y'])"
   ]
  },
  {
   "cell_type": "code",
   "execution_count": 62,
   "id": "20a22823",
   "metadata": {},
   "outputs": [
    {
     "data": {
      "text/plain": [
       "Index(['age', 'job', 'marital', 'education', 'housing', 'loan', 'contact',\n",
       "       'month', 'day_of_week', 'duration', 'campaign', 'pdays', 'previous',\n",
       "       'poutcome', 'emp.var.rate', 'cons.price.idx', 'cons.conf.idx',\n",
       "       'euribor3m', 'nr.employed', 'y'],\n",
       "      dtype='object')"
      ]
     },
     "execution_count": 62,
     "metadata": {},
     "output_type": "execute_result"
    }
   ],
   "source": [
    "data.columns"
   ]
  },
  {
   "cell_type": "code",
   "execution_count": 63,
   "id": "4ba9eea8",
   "metadata": {},
   "outputs": [
    {
     "data": {
      "text/plain": [
       "['job',\n",
       " 'marital',\n",
       " 'education',\n",
       " 'housing',\n",
       " 'loan',\n",
       " 'contact',\n",
       " 'month',\n",
       " 'day_of_week',\n",
       " 'poutcome',\n",
       " 'y']"
      ]
     },
     "execution_count": 63,
     "metadata": {},
     "output_type": "execute_result"
    }
   ],
   "source": [
    "cat = []\n",
    "for col in data.columns:\n",
    "    if data[col].dtype == 'O':\n",
    "        cat.append(col)\n",
    "cat"
   ]
  },
  {
   "cell_type": "code",
   "execution_count": 64,
   "id": "7ebb78a4",
   "metadata": {},
   "outputs": [
    {
     "data": {
      "text/plain": [
       "['age',\n",
       " 'duration',\n",
       " 'campaign',\n",
       " 'pdays',\n",
       " 'previous',\n",
       " 'emp.var.rate',\n",
       " 'cons.price.idx',\n",
       " 'cons.conf.idx',\n",
       " 'euribor3m',\n",
       " 'nr.employed']"
      ]
     },
     "execution_count": 64,
     "metadata": {},
     "output_type": "execute_result"
    }
   ],
   "source": [
    "num = []\n",
    "for col in data.columns:\n",
    "    if data[col].dtype != 'O':\n",
    "        num.append(col)\n",
    "num"
   ]
  },
  {
   "cell_type": "code",
   "execution_count": 66,
   "id": "dee8ce8d",
   "metadata": {},
   "outputs": [],
   "source": [
    "# feature encoding\n",
    "dict = {'yes':1, 'no':0}\n",
    "data['y'] = data['y'].map(dict)"
   ]
  },
  {
   "cell_type": "code",
   "execution_count": 70,
   "id": "72306227",
   "metadata": {},
   "outputs": [
    {
     "data": {
      "text/plain": [
       "{'admin.': 0.12911341451142197,\n",
       " 'blue-collar': 0.06950934579439252,\n",
       " 'entrepreneur': 0.08529411764705883,\n",
       " 'housemaid': 0.09929078014184398,\n",
       " 'management': 0.11143695014662756,\n",
       " 'retired': 0.24730500951173112,\n",
       " 'self-employed': 0.10822831727205337,\n",
       " 'services': 0.07992465016146394,\n",
       " 'student': 0.3023255813953488,\n",
       " 'technician': 0.10705329153605016,\n",
       " 'unemployed': 0.14330218068535824}"
      ]
     },
     "execution_count": 70,
     "metadata": {},
     "output_type": "execute_result"
    }
   ],
   "source": [
    "# Mean encoding... job, marital and education......... the rest label encoding\n",
    "data.groupby('job')['y'].mean().to_dict()"
   ]
  },
  {
   "cell_type": "code",
   "execution_count": 71,
   "id": "48950ed2",
   "metadata": {},
   "outputs": [
    {
     "name": "stdout",
     "output_type": "stream",
     "text": [
      "features encoded successfully!\n",
      "features encoded successfully!\n",
      "features encoded successfully!\n"
     ]
    }
   ],
   "source": [
    "list = ['job', 'marital', 'education']\n",
    "for feature in list:\n",
    "    dict = data.groupby(feature)['y'].mean().to_dict()\n",
    "    data[feature] = data[feature].map(dict)\n",
    "    print('features encoded successfully!')"
   ]
  },
  {
   "cell_type": "code",
   "execution_count": 72,
   "id": "1a728574",
   "metadata": {},
   "outputs": [
    {
     "data": {
      "text/plain": [
       "['job',\n",
       " 'marital',\n",
       " 'education',\n",
       " 'housing',\n",
       " 'loan',\n",
       " 'contact',\n",
       " 'month',\n",
       " 'day_of_week',\n",
       " 'poutcome',\n",
       " 'y']"
      ]
     },
     "execution_count": 72,
     "metadata": {},
     "output_type": "execute_result"
    }
   ],
   "source": [
    "cat"
   ]
  },
  {
   "cell_type": "code",
   "execution_count": 73,
   "id": "a63ce6b4",
   "metadata": {},
   "outputs": [
    {
     "name": "stdout",
     "output_type": "stream",
     "text": [
      "['no' 'yes']\n"
     ]
    }
   ],
   "source": [
    "uniqueness('housing')"
   ]
  },
  {
   "cell_type": "code",
   "execution_count": 77,
   "id": "997473e9",
   "metadata": {},
   "outputs": [],
   "source": [
    "dict = {'no':0, 'yes':1}\n",
    "\n",
    "data['housing'] = data['housing'].map(dict)"
   ]
  },
  {
   "cell_type": "code",
   "execution_count": 79,
   "id": "09819116",
   "metadata": {},
   "outputs": [
    {
     "name": "stdout",
     "output_type": "stream",
     "text": [
      "['no' 'yes']\n"
     ]
    }
   ],
   "source": [
    "uniqueness('loan')"
   ]
  },
  {
   "cell_type": "code",
   "execution_count": 80,
   "id": "b02b0d77",
   "metadata": {},
   "outputs": [],
   "source": [
    "dict = {'no':0, 'yes':1}\n",
    "\n",
    "data['loan'] = data['loan'].map(dict)"
   ]
  },
  {
   "cell_type": "code",
   "execution_count": 81,
   "id": "67927460",
   "metadata": {},
   "outputs": [
    {
     "name": "stdout",
     "output_type": "stream",
     "text": [
      "['telephone' 'cellular']\n"
     ]
    }
   ],
   "source": [
    "uniqueness('contact')"
   ]
  },
  {
   "cell_type": "code",
   "execution_count": 82,
   "id": "1dff74f9",
   "metadata": {},
   "outputs": [],
   "source": [
    "dict = {'telephone':1, 'cellular':2}\n",
    "\n",
    "data['contact'] = data['contact'].map(dict)"
   ]
  },
  {
   "cell_type": "code",
   "execution_count": 83,
   "id": "92d2be23",
   "metadata": {},
   "outputs": [
    {
     "name": "stdout",
     "output_type": "stream",
     "text": [
      "['may' 'jun' 'jul' 'aug' 'oct' 'nov' 'dec' 'mar' 'apr' 'sep']\n"
     ]
    }
   ],
   "source": [
    "uniqueness('month')"
   ]
  },
  {
   "cell_type": "code",
   "execution_count": 84,
   "id": "537af09d",
   "metadata": {},
   "outputs": [],
   "source": [
    "dict = {'may':5, 'jun':6, 'jul':7, 'aug':8, 'oct':10, 'nov':11, 'dec':12, 'mar':3, 'apr':4, 'sep':9}\n",
    "\n",
    "data['month'] = data['month'].map(dict)"
   ]
  },
  {
   "cell_type": "code",
   "execution_count": 85,
   "id": "4ad7232d",
   "metadata": {},
   "outputs": [
    {
     "name": "stdout",
     "output_type": "stream",
     "text": [
      "['mon' 'tue' 'wed' 'thu' 'fri']\n"
     ]
    }
   ],
   "source": [
    "uniqueness('day_of_week')"
   ]
  },
  {
   "cell_type": "code",
   "execution_count": 86,
   "id": "e1eb274d",
   "metadata": {},
   "outputs": [],
   "source": [
    "dict = {'mon':1, 'tue':2, 'wed':3, 'thu':4, 'fri':5}\n",
    "\n",
    "data['day_of_week'] = data['day_of_week'].map(dict)"
   ]
  },
  {
   "cell_type": "code",
   "execution_count": 87,
   "id": "c76c136c",
   "metadata": {},
   "outputs": [
    {
     "name": "stdout",
     "output_type": "stream",
     "text": [
      "['nonexistent' 'failure' 'success']\n"
     ]
    }
   ],
   "source": [
    "uniqueness('poutcome')"
   ]
  },
  {
   "cell_type": "code",
   "execution_count": 89,
   "id": "9e78422d",
   "metadata": {},
   "outputs": [],
   "source": [
    "dict = {'nonexistent':0, 'failure':2, 'success':1}\n",
    "\n",
    "data['poutcome'] = data['poutcome'].map(dict)"
   ]
  },
  {
   "cell_type": "code",
   "execution_count": 90,
   "id": "bf6106be",
   "metadata": {},
   "outputs": [
    {
     "data": {
      "text/html": [
       "<div>\n",
       "<style scoped>\n",
       "    .dataframe tbody tr th:only-of-type {\n",
       "        vertical-align: middle;\n",
       "    }\n",
       "\n",
       "    .dataframe tbody tr th {\n",
       "        vertical-align: top;\n",
       "    }\n",
       "\n",
       "    .dataframe thead th {\n",
       "        text-align: right;\n",
       "    }\n",
       "</style>\n",
       "<table border=\"1\" class=\"dataframe\">\n",
       "  <thead>\n",
       "    <tr style=\"text-align: right;\">\n",
       "      <th></th>\n",
       "      <th>age</th>\n",
       "      <th>job</th>\n",
       "      <th>marital</th>\n",
       "      <th>education</th>\n",
       "      <th>housing</th>\n",
       "      <th>loan</th>\n",
       "      <th>contact</th>\n",
       "      <th>month</th>\n",
       "      <th>day_of_week</th>\n",
       "      <th>duration</th>\n",
       "      <th>campaign</th>\n",
       "      <th>pdays</th>\n",
       "      <th>previous</th>\n",
       "      <th>poutcome</th>\n",
       "      <th>emp.var.rate</th>\n",
       "      <th>cons.price.idx</th>\n",
       "      <th>cons.conf.idx</th>\n",
       "      <th>euribor3m</th>\n",
       "      <th>nr.employed</th>\n",
       "      <th>y</th>\n",
       "    </tr>\n",
       "  </thead>\n",
       "  <tbody>\n",
       "    <tr>\n",
       "      <th>0</th>\n",
       "      <td>56</td>\n",
       "      <td>0.099291</td>\n",
       "      <td>0.100979</td>\n",
       "      <td>0.102949</td>\n",
       "      <td>0</td>\n",
       "      <td>0</td>\n",
       "      <td>1</td>\n",
       "      <td>5</td>\n",
       "      <td>1</td>\n",
       "      <td>261</td>\n",
       "      <td>1</td>\n",
       "      <td>999</td>\n",
       "      <td>0</td>\n",
       "      <td>0</td>\n",
       "      <td>1.1</td>\n",
       "      <td>93.994</td>\n",
       "      <td>-36.4</td>\n",
       "      <td>4.857</td>\n",
       "      <td>5191.0</td>\n",
       "      <td>0</td>\n",
       "    </tr>\n",
       "    <tr>\n",
       "      <th>1</th>\n",
       "      <td>57</td>\n",
       "      <td>0.079925</td>\n",
       "      <td>0.100979</td>\n",
       "      <td>0.108936</td>\n",
       "      <td>0</td>\n",
       "      <td>0</td>\n",
       "      <td>1</td>\n",
       "      <td>5</td>\n",
       "      <td>1</td>\n",
       "      <td>149</td>\n",
       "      <td>1</td>\n",
       "      <td>999</td>\n",
       "      <td>0</td>\n",
       "      <td>0</td>\n",
       "      <td>1.1</td>\n",
       "      <td>93.994</td>\n",
       "      <td>-36.4</td>\n",
       "      <td>4.857</td>\n",
       "      <td>5191.0</td>\n",
       "      <td>0</td>\n",
       "    </tr>\n",
       "    <tr>\n",
       "      <th>2</th>\n",
       "      <td>37</td>\n",
       "      <td>0.079925</td>\n",
       "      <td>0.100979</td>\n",
       "      <td>0.108936</td>\n",
       "      <td>1</td>\n",
       "      <td>0</td>\n",
       "      <td>1</td>\n",
       "      <td>5</td>\n",
       "      <td>1</td>\n",
       "      <td>226</td>\n",
       "      <td>1</td>\n",
       "      <td>999</td>\n",
       "      <td>0</td>\n",
       "      <td>0</td>\n",
       "      <td>1.1</td>\n",
       "      <td>93.994</td>\n",
       "      <td>-36.4</td>\n",
       "      <td>4.857</td>\n",
       "      <td>5191.0</td>\n",
       "      <td>0</td>\n",
       "    </tr>\n",
       "    <tr>\n",
       "      <th>3</th>\n",
       "      <td>40</td>\n",
       "      <td>0.129113</td>\n",
       "      <td>0.100979</td>\n",
       "      <td>0.081670</td>\n",
       "      <td>0</td>\n",
       "      <td>0</td>\n",
       "      <td>1</td>\n",
       "      <td>5</td>\n",
       "      <td>1</td>\n",
       "      <td>151</td>\n",
       "      <td>1</td>\n",
       "      <td>999</td>\n",
       "      <td>0</td>\n",
       "      <td>0</td>\n",
       "      <td>1.1</td>\n",
       "      <td>93.994</td>\n",
       "      <td>-36.4</td>\n",
       "      <td>4.857</td>\n",
       "      <td>5191.0</td>\n",
       "      <td>0</td>\n",
       "    </tr>\n",
       "    <tr>\n",
       "      <th>4</th>\n",
       "      <td>56</td>\n",
       "      <td>0.079925</td>\n",
       "      <td>0.100979</td>\n",
       "      <td>0.108936</td>\n",
       "      <td>0</td>\n",
       "      <td>1</td>\n",
       "      <td>1</td>\n",
       "      <td>5</td>\n",
       "      <td>1</td>\n",
       "      <td>307</td>\n",
       "      <td>1</td>\n",
       "      <td>999</td>\n",
       "      <td>0</td>\n",
       "      <td>0</td>\n",
       "      <td>1.1</td>\n",
       "      <td>93.994</td>\n",
       "      <td>-36.4</td>\n",
       "      <td>4.857</td>\n",
       "      <td>5191.0</td>\n",
       "      <td>0</td>\n",
       "    </tr>\n",
       "  </tbody>\n",
       "</table>\n",
       "</div>"
      ],
      "text/plain": [
       "   age       job   marital  education  housing  loan  contact  month  \\\n",
       "0   56  0.099291  0.100979   0.102949        0     0        1      5   \n",
       "1   57  0.079925  0.100979   0.108936        0     0        1      5   \n",
       "2   37  0.079925  0.100979   0.108936        1     0        1      5   \n",
       "3   40  0.129113  0.100979   0.081670        0     0        1      5   \n",
       "4   56  0.079925  0.100979   0.108936        0     1        1      5   \n",
       "\n",
       "   day_of_week  duration  campaign  pdays  previous  poutcome  emp.var.rate  \\\n",
       "0            1       261         1    999         0         0           1.1   \n",
       "1            1       149         1    999         0         0           1.1   \n",
       "2            1       226         1    999         0         0           1.1   \n",
       "3            1       151         1    999         0         0           1.1   \n",
       "4            1       307         1    999         0         0           1.1   \n",
       "\n",
       "   cons.price.idx  cons.conf.idx  euribor3m  nr.employed  y  \n",
       "0          93.994          -36.4      4.857       5191.0  0  \n",
       "1          93.994          -36.4      4.857       5191.0  0  \n",
       "2          93.994          -36.4      4.857       5191.0  0  \n",
       "3          93.994          -36.4      4.857       5191.0  0  \n",
       "4          93.994          -36.4      4.857       5191.0  0  "
      ]
     },
     "execution_count": 90,
     "metadata": {},
     "output_type": "execute_result"
    }
   ],
   "source": [
    "data.head(5)"
   ]
  },
  {
   "cell_type": "code",
   "execution_count": 95,
   "id": "cb91cfbe",
   "metadata": {},
   "outputs": [],
   "source": [
    "data['cons.conf.idx'] = data['cons.conf.idx'].abs()"
   ]
  },
  {
   "cell_type": "code",
   "execution_count": 96,
   "id": "32f1f5f9",
   "metadata": {},
   "outputs": [
    {
     "data": {
      "text/html": [
       "<div>\n",
       "<style scoped>\n",
       "    .dataframe tbody tr th:only-of-type {\n",
       "        vertical-align: middle;\n",
       "    }\n",
       "\n",
       "    .dataframe tbody tr th {\n",
       "        vertical-align: top;\n",
       "    }\n",
       "\n",
       "    .dataframe thead th {\n",
       "        text-align: right;\n",
       "    }\n",
       "</style>\n",
       "<table border=\"1\" class=\"dataframe\">\n",
       "  <thead>\n",
       "    <tr style=\"text-align: right;\">\n",
       "      <th></th>\n",
       "      <th>age</th>\n",
       "      <th>job</th>\n",
       "      <th>marital</th>\n",
       "      <th>education</th>\n",
       "      <th>housing</th>\n",
       "      <th>loan</th>\n",
       "      <th>contact</th>\n",
       "      <th>month</th>\n",
       "      <th>day_of_week</th>\n",
       "      <th>duration</th>\n",
       "      <th>campaign</th>\n",
       "      <th>pdays</th>\n",
       "      <th>previous</th>\n",
       "      <th>poutcome</th>\n",
       "      <th>emp.var.rate</th>\n",
       "      <th>cons.price.idx</th>\n",
       "      <th>cons.conf.idx</th>\n",
       "      <th>euribor3m</th>\n",
       "      <th>nr.employed</th>\n",
       "      <th>y</th>\n",
       "    </tr>\n",
       "  </thead>\n",
       "  <tbody>\n",
       "    <tr>\n",
       "      <th>0</th>\n",
       "      <td>56</td>\n",
       "      <td>0.099291</td>\n",
       "      <td>0.100979</td>\n",
       "      <td>0.102949</td>\n",
       "      <td>0</td>\n",
       "      <td>0</td>\n",
       "      <td>1</td>\n",
       "      <td>5</td>\n",
       "      <td>1</td>\n",
       "      <td>261</td>\n",
       "      <td>1</td>\n",
       "      <td>999</td>\n",
       "      <td>0</td>\n",
       "      <td>0</td>\n",
       "      <td>1.1</td>\n",
       "      <td>93.994</td>\n",
       "      <td>36.4</td>\n",
       "      <td>4.857</td>\n",
       "      <td>5191.0</td>\n",
       "      <td>0</td>\n",
       "    </tr>\n",
       "    <tr>\n",
       "      <th>1</th>\n",
       "      <td>57</td>\n",
       "      <td>0.079925</td>\n",
       "      <td>0.100979</td>\n",
       "      <td>0.108936</td>\n",
       "      <td>0</td>\n",
       "      <td>0</td>\n",
       "      <td>1</td>\n",
       "      <td>5</td>\n",
       "      <td>1</td>\n",
       "      <td>149</td>\n",
       "      <td>1</td>\n",
       "      <td>999</td>\n",
       "      <td>0</td>\n",
       "      <td>0</td>\n",
       "      <td>1.1</td>\n",
       "      <td>93.994</td>\n",
       "      <td>36.4</td>\n",
       "      <td>4.857</td>\n",
       "      <td>5191.0</td>\n",
       "      <td>0</td>\n",
       "    </tr>\n",
       "    <tr>\n",
       "      <th>2</th>\n",
       "      <td>37</td>\n",
       "      <td>0.079925</td>\n",
       "      <td>0.100979</td>\n",
       "      <td>0.108936</td>\n",
       "      <td>1</td>\n",
       "      <td>0</td>\n",
       "      <td>1</td>\n",
       "      <td>5</td>\n",
       "      <td>1</td>\n",
       "      <td>226</td>\n",
       "      <td>1</td>\n",
       "      <td>999</td>\n",
       "      <td>0</td>\n",
       "      <td>0</td>\n",
       "      <td>1.1</td>\n",
       "      <td>93.994</td>\n",
       "      <td>36.4</td>\n",
       "      <td>4.857</td>\n",
       "      <td>5191.0</td>\n",
       "      <td>0</td>\n",
       "    </tr>\n",
       "    <tr>\n",
       "      <th>3</th>\n",
       "      <td>40</td>\n",
       "      <td>0.129113</td>\n",
       "      <td>0.100979</td>\n",
       "      <td>0.081670</td>\n",
       "      <td>0</td>\n",
       "      <td>0</td>\n",
       "      <td>1</td>\n",
       "      <td>5</td>\n",
       "      <td>1</td>\n",
       "      <td>151</td>\n",
       "      <td>1</td>\n",
       "      <td>999</td>\n",
       "      <td>0</td>\n",
       "      <td>0</td>\n",
       "      <td>1.1</td>\n",
       "      <td>93.994</td>\n",
       "      <td>36.4</td>\n",
       "      <td>4.857</td>\n",
       "      <td>5191.0</td>\n",
       "      <td>0</td>\n",
       "    </tr>\n",
       "    <tr>\n",
       "      <th>4</th>\n",
       "      <td>56</td>\n",
       "      <td>0.079925</td>\n",
       "      <td>0.100979</td>\n",
       "      <td>0.108936</td>\n",
       "      <td>0</td>\n",
       "      <td>1</td>\n",
       "      <td>1</td>\n",
       "      <td>5</td>\n",
       "      <td>1</td>\n",
       "      <td>307</td>\n",
       "      <td>1</td>\n",
       "      <td>999</td>\n",
       "      <td>0</td>\n",
       "      <td>0</td>\n",
       "      <td>1.1</td>\n",
       "      <td>93.994</td>\n",
       "      <td>36.4</td>\n",
       "      <td>4.857</td>\n",
       "      <td>5191.0</td>\n",
       "      <td>0</td>\n",
       "    </tr>\n",
       "  </tbody>\n",
       "</table>\n",
       "</div>"
      ],
      "text/plain": [
       "   age       job   marital  education  housing  loan  contact  month  \\\n",
       "0   56  0.099291  0.100979   0.102949        0     0        1      5   \n",
       "1   57  0.079925  0.100979   0.108936        0     0        1      5   \n",
       "2   37  0.079925  0.100979   0.108936        1     0        1      5   \n",
       "3   40  0.129113  0.100979   0.081670        0     0        1      5   \n",
       "4   56  0.079925  0.100979   0.108936        0     1        1      5   \n",
       "\n",
       "   day_of_week  duration  campaign  pdays  previous  poutcome  emp.var.rate  \\\n",
       "0            1       261         1    999         0         0           1.1   \n",
       "1            1       149         1    999         0         0           1.1   \n",
       "2            1       226         1    999         0         0           1.1   \n",
       "3            1       151         1    999         0         0           1.1   \n",
       "4            1       307         1    999         0         0           1.1   \n",
       "\n",
       "   cons.price.idx  cons.conf.idx  euribor3m  nr.employed  y  \n",
       "0          93.994           36.4      4.857       5191.0  0  \n",
       "1          93.994           36.4      4.857       5191.0  0  \n",
       "2          93.994           36.4      4.857       5191.0  0  \n",
       "3          93.994           36.4      4.857       5191.0  0  \n",
       "4          93.994           36.4      4.857       5191.0  0  "
      ]
     },
     "execution_count": 96,
     "metadata": {},
     "output_type": "execute_result"
    }
   ],
   "source": [
    "data.head(5)"
   ]
  },
  {
   "cell_type": "code",
   "execution_count": 98,
   "id": "638a127d",
   "metadata": {},
   "outputs": [
    {
     "data": {
      "text/plain": [
       "y                 1.000000\n",
       "duration          0.405832\n",
       "previous          0.221159\n",
       "job               0.143770\n",
       "contact           0.140866\n",
       "poutcome          0.114086\n",
       "education         0.066674\n",
       "marital           0.050201\n",
       "month             0.034191\n",
       "age               0.030130\n",
       "housing           0.009996\n",
       "day_of_week       0.009756\n",
       "loan             -0.005603\n",
       "cons.conf.idx    -0.051424\n",
       "campaign         -0.065117\n",
       "cons.price.idx   -0.133084\n",
       "emp.var.rate     -0.292265\n",
       "euribor3m        -0.300580\n",
       "pdays            -0.319351\n",
       "nr.employed      -0.347830\n",
       "Name: y, dtype: float64"
      ]
     },
     "execution_count": 98,
     "metadata": {},
     "output_type": "execute_result"
    }
   ],
   "source": [
    "# finding correlation among values\n",
    "data.corr()['y'].sort_values(ascending=False)"
   ]
  },
  {
   "cell_type": "code",
   "execution_count": 99,
   "id": "e39ccb4c",
   "metadata": {},
   "outputs": [
    {
     "data": {
      "text/plain": [
       "<AxesSubplot:>"
      ]
     },
     "execution_count": 99,
     "metadata": {},
     "output_type": "execute_result"
    },
    {
     "data": {
      "image/png": "[encoded data removed]",
      "text/plain": [
       "<Figure size 1440x720 with 2 Axes>"
      ]
     },
     "metadata": {
      "needs_background": "light"
     },
     "output_type": "display_data"
    }
   ],
   "source": [
    "plt.figure(figsize=(20,10))\n",
    "sns.heatmap(data.corr(), annot=True)"
   ]
  },
  {
   "cell_type": "code",
   "execution_count": 102,
   "id": "6dc39ede",
   "metadata": {},
   "outputs": [
    {
     "data": {
      "image/png": "[encoded data removed]",
      "text/plain": [
       "<Figure size 1440x1440 with 20 Axes>"
      ]
     },
     "metadata": {
      "needs_background": "light"
     },
     "output_type": "display_data"
    }
   ],
   "source": [
    "plt.figure(figsize=(20,20))\n",
    "for i,feature in enumerate(data.columns):\n",
    "    plt.subplot(4,5, i+1)\n",
    "    data[feature].hist()\n",
    "    plt.title(feature)"
   ]
  },
  {
   "cell_type": "code",
   "execution_count": 103,
   "id": "df6f871c",
   "metadata": {},
   "outputs": [
    {
     "data": {
      "text/plain": [
       "<seaborn.axisgrid.FacetGrid at 0x1fbd8d1ae80>"
      ]
     },
     "execution_count": 103,
     "metadata": {},
     "output_type": "execute_result"
    },
    {
     "data": {
      "image/png": "[encoded data removed]",
      "text/plain": [
       "<Figure size 360x360 with 1 Axes>"
      ]
     },
     "metadata": {
      "needs_background": "light"
     },
     "output_type": "display_data"
    }
   ],
   "source": [
    "# outliersss....job,duration, campaign, previous\n",
    "sns.displot(data['job'])"
   ]
  },
  {
   "cell_type": "code",
   "execution_count": 107,
   "id": "091d287f",
   "metadata": {},
   "outputs": [
    {
     "data": {
      "text/plain": [
       "0        0.094665\n",
       "1        0.076891\n",
       "2        0.076891\n",
       "3        0.121433\n",
       "4        0.076891\n",
       "           ...   \n",
       "41183    0.220985\n",
       "41184    0.067200\n",
       "41185    0.220985\n",
       "41186    0.101702\n",
       "41187    0.220985\n",
       "Name: job, Length: 38245, dtype: float64"
      ]
     },
     "execution_count": 107,
     "metadata": {},
     "output_type": "execute_result"
    }
   ],
   "source": [
    "np.log1p(data['job'])"
   ]
  },
  {
   "cell_type": "code",
   "execution_count": 108,
   "id": "0a6b251b",
   "metadata": {},
   "outputs": [],
   "source": [
    "list = ['job', 'duration', 'campaign', 'previous']\n",
    "for feature in list:\n",
    "    data[feature] = np.log1p(data[feature])"
   ]
  },
  {
   "cell_type": "code",
   "execution_count": 110,
   "id": "34816c27",
   "metadata": {},
   "outputs": [
    {
     "data": {
      "text/plain": [
       "<seaborn.axisgrid.FacetGrid at 0x1fbdac4af70>"
      ]
     },
     "execution_count": 110,
     "metadata": {},
     "output_type": "execute_result"
    },
    {
     "data": {
      "image/png": "[encoded data removed]",
      "text/plain": [
       "<Figure size 360x360 with 1 Axes>"
      ]
     },
     "metadata": {
      "needs_background": "light"
     },
     "output_type": "display_data"
    }
   ],
   "source": [
    "sns.displot(data['job'])"
   ]
  },
  {
   "cell_type": "code",
   "execution_count": 111,
   "id": "8a89c7c4",
   "metadata": {},
   "outputs": [],
   "source": [
    "# selecting important features for the model building\n",
    "from sklearn.linear_model import Lasso\n",
    "from sklearn.feature_selection import SelectFromModel"
   ]
  },
  {
   "cell_type": "code",
   "execution_count": 112,
   "id": "89bac883",
   "metadata": {},
   "outputs": [],
   "source": [
    "feat_model = SelectFromModel(Lasso(alpha=0.005, random_state=0))"
   ]
  },
  {
   "cell_type": "code",
   "execution_count": 113,
   "id": "0e6bb6bc",
   "metadata": {},
   "outputs": [],
   "source": [
    "y = data['y']  # dependent feature\n",
    "x = data.drop('y', axis=1) # independent feature"
   ]
  },
  {
   "cell_type": "code",
   "execution_count": 114,
   "id": "c4ecd3a6",
   "metadata": {},
   "outputs": [
    {
     "data": {
      "text/plain": [
       "SelectFromModel(estimator=Lasso(alpha=0.005, random_state=0))"
      ]
     },
     "execution_count": 114,
     "metadata": {},
     "output_type": "execute_result"
    }
   ],
   "source": [
    "feat_model.fit(x,y)"
   ]
  },
  {
   "cell_type": "code",
   "execution_count": 115,
   "id": "9b586b66",
   "metadata": {},
   "outputs": [],
   "source": [
    "cols = x.columns"
   ]
  },
  {
   "cell_type": "code",
   "execution_count": 116,
   "id": "2e0be76d",
   "metadata": {},
   "outputs": [
    {
     "data": {
      "text/plain": [
       "array([ True, False, False, False, False, False, False,  True,  True,\n",
       "        True,  True,  True, False,  True, False,  True,  True, False,\n",
       "        True])"
      ]
     },
     "execution_count": 116,
     "metadata": {},
     "output_type": "execute_result"
    }
   ],
   "source": [
    "feat_model.get_support()"
   ]
  },
  {
   "cell_type": "code",
   "execution_count": 117,
   "id": "0de225cd",
   "metadata": {},
   "outputs": [
    {
     "data": {
      "text/plain": [
       "Index(['age', 'month', 'day_of_week', 'duration', 'campaign', 'pdays',\n",
       "       'poutcome', 'cons.price.idx', 'cons.conf.idx', 'nr.employed'],\n",
       "      dtype='object')"
      ]
     },
     "execution_count": 117,
     "metadata": {},
     "output_type": "execute_result"
    }
   ],
   "source": [
    "selected_features = cols[feat_model.get_support()]\n",
    "selected_features"
   ]
  },
  {
   "cell_type": "code",
   "execution_count": 119,
   "id": "45da3688",
   "metadata": {},
   "outputs": [
    {
     "data": {
      "text/html": [
       "<div>\n",
       "<style scoped>\n",
       "    .dataframe tbody tr th:only-of-type {\n",
       "        vertical-align: middle;\n",
       "    }\n",
       "\n",
       "    .dataframe tbody tr th {\n",
       "        vertical-align: top;\n",
       "    }\n",
       "\n",
       "    .dataframe thead th {\n",
       "        text-align: right;\n",
       "    }\n",
       "</style>\n",
       "<table border=\"1\" class=\"dataframe\">\n",
       "  <thead>\n",
       "    <tr style=\"text-align: right;\">\n",
       "      <th></th>\n",
       "      <th>age</th>\n",
       "      <th>month</th>\n",
       "      <th>day_of_week</th>\n",
       "      <th>duration</th>\n",
       "      <th>campaign</th>\n",
       "      <th>pdays</th>\n",
       "      <th>poutcome</th>\n",
       "      <th>cons.price.idx</th>\n",
       "      <th>cons.conf.idx</th>\n",
       "      <th>nr.employed</th>\n",
       "    </tr>\n",
       "  </thead>\n",
       "  <tbody>\n",
       "    <tr>\n",
       "      <th>0</th>\n",
       "      <td>56</td>\n",
       "      <td>5</td>\n",
       "      <td>1</td>\n",
       "      <td>5.568345</td>\n",
       "      <td>0.693147</td>\n",
       "      <td>999</td>\n",
       "      <td>0</td>\n",
       "      <td>93.994</td>\n",
       "      <td>36.4</td>\n",
       "      <td>5191.0</td>\n",
       "    </tr>\n",
       "    <tr>\n",
       "      <th>1</th>\n",
       "      <td>57</td>\n",
       "      <td>5</td>\n",
       "      <td>1</td>\n",
       "      <td>5.010635</td>\n",
       "      <td>0.693147</td>\n",
       "      <td>999</td>\n",
       "      <td>0</td>\n",
       "      <td>93.994</td>\n",
       "      <td>36.4</td>\n",
       "      <td>5191.0</td>\n",
       "    </tr>\n",
       "    <tr>\n",
       "      <th>2</th>\n",
       "      <td>37</td>\n",
       "      <td>5</td>\n",
       "      <td>1</td>\n",
       "      <td>5.424950</td>\n",
       "      <td>0.693147</td>\n",
       "      <td>999</td>\n",
       "      <td>0</td>\n",
       "      <td>93.994</td>\n",
       "      <td>36.4</td>\n",
       "      <td>5191.0</td>\n",
       "    </tr>\n",
       "  </tbody>\n",
       "</table>\n",
       "</div>"
      ],
      "text/plain": [
       "   age  month  day_of_week  duration  campaign  pdays  poutcome  \\\n",
       "0   56      5            1  5.568345  0.693147    999         0   \n",
       "1   57      5            1  5.010635  0.693147    999         0   \n",
       "2   37      5            1  5.424950  0.693147    999         0   \n",
       "\n",
       "   cons.price.idx  cons.conf.idx  nr.employed  \n",
       "0          93.994           36.4       5191.0  \n",
       "1          93.994           36.4       5191.0  \n",
       "2          93.994           36.4       5191.0  "
      ]
     },
     "execution_count": 119,
     "metadata": {},
     "output_type": "execute_result"
    }
   ],
   "source": [
    "x = x[selected_features]\n",
    "x.head(3)"
   ]
  },
  {
   "cell_type": "code",
   "execution_count": 120,
   "id": "72b9086d",
   "metadata": {},
   "outputs": [],
   "source": [
    "# dividing data into training and testing samples\n",
    "from sklearn.model_selection import train_test_split"
   ]
  },
  {
   "cell_type": "code",
   "execution_count": 122,
   "id": "1da70b7a",
   "metadata": {},
   "outputs": [],
   "source": [
    "X_train, X_test, y_train, y_test = train_test_split(x,y, test_size=0.25, random_state=0)"
   ]
  },
  {
   "cell_type": "code",
   "execution_count": 123,
   "id": "084722af",
   "metadata": {},
   "outputs": [],
   "source": [
    "from sklearn.tree import DecisionTreeClassifier"
   ]
  },
  {
   "cell_type": "code",
   "execution_count": 124,
   "id": "1e60affe",
   "metadata": {},
   "outputs": [],
   "source": [
    "model = DecisionTreeClassifier(random_state=0)"
   ]
  },
  {
   "cell_type": "code",
   "execution_count": 125,
   "id": "e3865b1c",
   "metadata": {},
   "outputs": [
    {
     "data": {
      "text/plain": [
       "DecisionTreeClassifier(random_state=0)"
      ]
     },
     "execution_count": 125,
     "metadata": {},
     "output_type": "execute_result"
    }
   ],
   "source": [
    "model.fit(X_train, y_train)"
   ]
  },
  {
   "cell_type": "code",
   "execution_count": 127,
   "id": "a946be47",
   "metadata": {},
   "outputs": [
    {
     "data": {
      "text/plain": [
       "array([0, 1, 0, ..., 0, 0, 0], dtype=int64)"
      ]
     },
     "execution_count": 127,
     "metadata": {},
     "output_type": "execute_result"
    }
   ],
   "source": [
    "pred = model.predict(X_test)\n",
    "pred"
   ]
  },
  {
   "cell_type": "code",
   "execution_count": 128,
   "id": "92adcc90",
   "metadata": {},
   "outputs": [],
   "source": [
    "# Evaluating the model\n",
    "from sklearn.metrics import accuracy_score, confusion_matrix"
   ]
  },
  {
   "cell_type": "code",
   "execution_count": 130,
   "id": "fb06477a",
   "metadata": {},
   "outputs": [
    {
     "data": {
      "text/plain": [
       "array([[7997,  538],\n",
       "       [ 521,  506]], dtype=int64)"
      ]
     },
     "execution_count": 130,
     "metadata": {},
     "output_type": "execute_result"
    }
   ],
   "source": [
    "confusion_matrix(y_test, pred)"
   ]
  },
  {
   "cell_type": "code",
   "execution_count": 132,
   "id": "2ddb5bc7",
   "metadata": {},
   "outputs": [
    {
     "data": {
      "text/plain": [
       "0.8892491110646308"
      ]
     },
     "execution_count": 132,
     "metadata": {},
     "output_type": "execute_result"
    }
   ],
   "source": [
    "accuracy_score(y_test, pred)"
   ]
  },
  {
   "cell_type": "code",
   "execution_count": 133,
   "id": "e84969d2",
   "metadata": {},
   "outputs": [],
   "source": [
    "from sklearn.model_selection import RandomizedSearchCV"
   ]
  },
  {
   "cell_type": "code",
   "execution_count": 134,
   "id": "190eab63",
   "metadata": {},
   "outputs": [],
   "source": [
    "model = DecisionTreeClassifier()"
   ]
  },
  {
   "cell_type": "code",
   "execution_count": 135,
   "id": "3e4bcb63",
   "metadata": {},
   "outputs": [],
   "source": [
    "n_estimators = [int(x) for x in np.linspace(1000,1200,4)]\n",
    "\n",
    "max_features = [\"auto\", \"sqrt\"]\n",
    "\n",
    "max_depth = [int(x) for x in np.linspace(5,30,4)]\n",
    "\n",
    "min_samples_split = [5,10,15,100]"
   ]
  },
  {
   "cell_type": "code",
   "execution_count": 140,
   "id": "454aa794",
   "metadata": {},
   "outputs": [
    {
     "data": {
      "text/plain": [
       "{'max_features': ['auto', 'sqrt'],\n",
       " 'max_depth': [5, 13, 21, 30],\n",
       " 'min_samples_split': [5, 10, 15, 100]}"
      ]
     },
     "execution_count": 140,
     "metadata": {},
     "output_type": "execute_result"
    }
   ],
   "source": [
    "rand_grid = {\n",
    "    'max_features': max_features,\n",
    "    'max_depth': max_depth,\n",
    "    'min_samples_split': min_samples_split\n",
    "    \n",
    "}\n",
    "rand_grid"
   ]
  },
  {
   "cell_type": "code",
   "execution_count": 141,
   "id": "29687db1",
   "metadata": {},
   "outputs": [],
   "source": [
    "cross_validate = RandomizedSearchCV(model, param_distributions=rand_grid, cv=4, verbose=2, n_jobs=1)"
   ]
  },
  {
   "cell_type": "code",
   "execution_count": 142,
   "id": "d137b59c",
   "metadata": {},
   "outputs": [
    {
     "name": "stdout",
     "output_type": "stream",
     "text": [
      "Fitting 4 folds for each of 10 candidates, totalling 40 fits\n",
      "[CV] END max_depth=13, max_features=auto, min_samples_split=5; total time=   0.0s\n",
      "[CV] END max_depth=13, max_features=auto, min_samples_split=5; total time=   0.0s\n",
      "[CV] END max_depth=13, max_features=auto, min_samples_split=5; total time=   0.0s\n",
      "[CV] END max_depth=13, max_features=auto, min_samples_split=5; total time=   0.0s\n",
      "[CV] END max_depth=13, max_features=sqrt, min_samples_split=10; total time=   0.0s\n",
      "[CV] END max_depth=13, max_features=sqrt, min_samples_split=10; total time=   0.0s\n",
      "[CV] END max_depth=13, max_features=sqrt, min_samples_split=10; total time=   0.0s\n",
      "[CV] END max_depth=13, max_features=sqrt, min_samples_split=10; total time=   0.0s\n",
      "[CV] END max_depth=5, max_features=auto, min_samples_split=100; total time=   0.0s\n",
      "[CV] END max_depth=5, max_features=auto, min_samples_split=100; total time=   0.0s\n",
      "[CV] END max_depth=5, max_features=auto, min_samples_split=100; total time=   0.0s\n",
      "[CV] END max_depth=5, max_features=auto, min_samples_split=100; total time=   0.0s\n",
      "[CV] END max_depth=5, max_features=sqrt, min_samples_split=100; total time=   0.0s\n",
      "[CV] END max_depth=5, max_features=sqrt, min_samples_split=100; total time=   0.0s\n",
      "[CV] END max_depth=5, max_features=sqrt, min_samples_split=100; total time=   0.0s\n",
      "[CV] END max_depth=5, max_features=sqrt, min_samples_split=100; total time=   0.0s\n",
      "[CV] END max_depth=21, max_features=auto, min_samples_split=15; total time=   0.0s\n",
      "[CV] END max_depth=21, max_features=auto, min_samples_split=15; total time=   0.0s\n",
      "[CV] END max_depth=21, max_features=auto, min_samples_split=15; total time=   0.0s\n",
      "[CV] END max_depth=21, max_features=auto, min_samples_split=15; total time=   0.0s\n",
      "[CV] END max_depth=21, max_features=sqrt, min_samples_split=5; total time=   0.0s\n",
      "[CV] END max_depth=21, max_features=sqrt, min_samples_split=5; total time=   0.0s\n",
      "[CV] END max_depth=21, max_features=sqrt, min_samples_split=5; total time=   0.0s\n",
      "[CV] END max_depth=21, max_features=sqrt, min_samples_split=5; total time=   0.0s\n",
      "[CV] END max_depth=13, max_features=sqrt, min_samples_split=5; total time=   0.0s\n",
      "[CV] END max_depth=13, max_features=sqrt, min_samples_split=5; total time=   0.0s\n",
      "[CV] END max_depth=13, max_features=sqrt, min_samples_split=5; total time=   0.0s\n",
      "[CV] END max_depth=13, max_features=sqrt, min_samples_split=5; total time=   0.0s\n",
      "[CV] END max_depth=5, max_features=sqrt, min_samples_split=5; total time=   0.0s\n",
      "[CV] END max_depth=5, max_features=sqrt, min_samples_split=5; total time=   0.0s\n",
      "[CV] END max_depth=5, max_features=sqrt, min_samples_split=5; total time=   0.0s\n",
      "[CV] END max_depth=5, max_features=sqrt, min_samples_split=5; total time=   0.0s\n",
      "[CV] END max_depth=21, max_features=auto, min_samples_split=10; total time=   0.0s\n",
      "[CV] END max_depth=21, max_features=auto, min_samples_split=10; total time=   0.0s\n",
      "[CV] END max_depth=21, max_features=auto, min_samples_split=10; total time=   0.0s\n",
      "[CV] END max_depth=21, max_features=auto, min_samples_split=10; total time=   0.0s\n",
      "[CV] END max_depth=30, max_features=auto, min_samples_split=5; total time=   0.0s\n",
      "[CV] END max_depth=30, max_features=auto, min_samples_split=5; total time=   0.0s\n",
      "[CV] END max_depth=30, max_features=auto, min_samples_split=5; total time=   0.0s\n",
      "[CV] END max_depth=30, max_features=auto, min_samples_split=5; total time=   0.0s\n"
     ]
    },
    {
     "data": {
      "text/plain": [
       "RandomizedSearchCV(cv=4, estimator=DecisionTreeClassifier(), n_jobs=1,\n",
       "                   param_distributions={'max_depth': [5, 13, 21, 30],\n",
       "                                        'max_features': ['auto', 'sqrt'],\n",
       "                                        'min_samples_split': [5, 10, 15, 100]},\n",
       "                   verbose=2)"
      ]
     },
     "execution_count": 142,
     "metadata": {},
     "output_type": "execute_result"
    }
   ],
   "source": [
    "cross_validate.fit(X_train,y_train)"
   ]
  },
  {
   "cell_type": "code",
   "execution_count": 144,
   "id": "c9b5a7cf",
   "metadata": {},
   "outputs": [
    {
     "data": {
      "text/plain": [
       "array([0, 1, 0, ..., 0, 0, 0], dtype=int64)"
      ]
     },
     "execution_count": 144,
     "metadata": {},
     "output_type": "execute_result"
    }
   ],
   "source": [
    "prediction = cross_validate.predict(X_test)\n",
    "prediction"
   ]
  },
  {
   "cell_type": "code",
   "execution_count": 146,
   "id": "927a5265",
   "metadata": {},
   "outputs": [
    {
     "data": {
      "text/plain": [
       "{'min_samples_split': 100, 'max_features': 'sqrt', 'max_depth': 5}"
      ]
     },
     "execution_count": 146,
     "metadata": {},
     "output_type": "execute_result"
    }
   ],
   "source": [
    "cross_validate.best_params_"
   ]
  },
  {
   "cell_type": "code",
   "execution_count": 147,
   "id": "134c37b1",
   "metadata": {},
   "outputs": [
    {
     "data": {
      "text/plain": [
       "array([[8346,  189],\n",
       "       [ 661,  366]], dtype=int64)"
      ]
     },
     "execution_count": 147,
     "metadata": {},
     "output_type": "execute_result"
    }
   ],
   "source": [
    "confusion_matrix(y_test, prediction)"
   ]
  },
  {
   "cell_type": "code",
   "execution_count": 148,
   "id": "a959d68d",
   "metadata": {},
   "outputs": [
    {
     "data": {
      "text/plain": [
       "0.911106463083037"
      ]
     },
     "execution_count": 148,
     "metadata": {},
     "output_type": "execute_result"
    }
   ],
   "source": [
    "accuracy_score(y_test, prediction)"
   ]
  },
  {
   "cell_type": "code",
   "execution_count": 150,
   "id": "2669a904",
   "metadata": {},
   "outputs": [
    {
     "data": {
      "text/html": [
       "<div>\n",
       "<style scoped>\n",
       "    .dataframe tbody tr th:only-of-type {\n",
       "        vertical-align: middle;\n",
       "    }\n",
       "\n",
       "    .dataframe tbody tr th {\n",
       "        vertical-align: top;\n",
       "    }\n",
       "\n",
       "    .dataframe thead th {\n",
       "        text-align: right;\n",
       "    }\n",
       "</style>\n",
       "<table border=\"1\" class=\"dataframe\">\n",
       "  <thead>\n",
       "    <tr style=\"text-align: right;\">\n",
       "      <th></th>\n",
       "      <th>age</th>\n",
       "      <th>month</th>\n",
       "      <th>day_of_week</th>\n",
       "      <th>duration</th>\n",
       "      <th>campaign</th>\n",
       "      <th>pdays</th>\n",
       "      <th>poutcome</th>\n",
       "      <th>cons.price.idx</th>\n",
       "      <th>cons.conf.idx</th>\n",
       "      <th>nr.employed</th>\n",
       "    </tr>\n",
       "  </thead>\n",
       "  <tbody>\n",
       "    <tr>\n",
       "      <th>24572</th>\n",
       "      <td>30</td>\n",
       "      <td>11</td>\n",
       "      <td>1</td>\n",
       "      <td>6.335054</td>\n",
       "      <td>1.098612</td>\n",
       "      <td>999</td>\n",
       "      <td>0</td>\n",
       "      <td>93.200</td>\n",
       "      <td>42.0</td>\n",
       "      <td>5195.8</td>\n",
       "    </tr>\n",
       "    <tr>\n",
       "      <th>38529</th>\n",
       "      <td>58</td>\n",
       "      <td>10</td>\n",
       "      <td>3</td>\n",
       "      <td>6.234411</td>\n",
       "      <td>0.693147</td>\n",
       "      <td>999</td>\n",
       "      <td>0</td>\n",
       "      <td>92.431</td>\n",
       "      <td>26.9</td>\n",
       "      <td>5017.5</td>\n",
       "    </tr>\n",
       "  </tbody>\n",
       "</table>\n",
       "</div>"
      ],
      "text/plain": [
       "       age  month  day_of_week  duration  campaign  pdays  poutcome  \\\n",
       "24572   30     11            1  6.335054  1.098612    999         0   \n",
       "38529   58     10            3  6.234411  0.693147    999         0   \n",
       "\n",
       "       cons.price.idx  cons.conf.idx  nr.employed  \n",
       "24572          93.200           42.0       5195.8  \n",
       "38529          92.431           26.9       5017.5  "
      ]
     },
     "execution_count": 150,
     "metadata": {},
     "output_type": "execute_result"
    }
   ],
   "source": [
    "X_test.head(2)"
   ]
  },
  {
   "cell_type": "code",
   "execution_count": 152,
   "id": "957b8cfd",
   "metadata": {},
   "outputs": [
    {
     "data": {
      "text/plain": [
       "array([0, 1], dtype=int64)"
      ]
     },
     "execution_count": 152,
     "metadata": {},
     "output_type": "execute_result"
    }
   ],
   "source": [
    "prediction[:2]"
   ]
  },
  {
   "cell_type": "code",
   "execution_count": null,
   "id": "b6c4f1c9",
   "metadata": {},
   "outputs": [],
   "source": []
  }
 ],
 "metadata": {
  "kernelspec": {
   "display_name": "Python 3 (ipykernel)",
   "language": "python",
   "name": "python3"
  },
  "language_info": {
   "codemirror_mode": {
    "name": "ipython",
    "version": 3
   },
   "file_extension": ".py",
   "mimetype": "text/x-python",
   "name": "python",
   "nbconvert_exporter": "python",
   "pygments_lexer": "ipython3",
   "version": "3.9.12"
  }
 },
 "nbformat": 4,
 "nbformat_minor": 5
}
